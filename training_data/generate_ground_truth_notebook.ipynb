{
 "cells": [
  {
   "cell_type": "code",
   "execution_count": 2,
   "id": "dbf0b69c",
   "metadata": {},
   "outputs": [],
   "source": [
    "# This is a functino that generate the ground truth of lifetime and intensity image, \n",
    "# Output in the format of intensity_image_array, lifetime_image_array\n",
    "from pydoc import plain\n",
    "from emnist import extract_training_samples\n",
    "import numpy as np\n",
    "import tensorflow as tf\n",
    "from utilities import draw\n",
    "from scipy.ndimage import gaussian_filter\n",
    "import h5py\n",
    "import matplotlib.pyplot as plt"
   ]
  },
  {
   "cell_type": "code",
   "execution_count": 5,
   "id": "46299c36",
   "metadata": {},
   "outputs": [
    {
     "ename": "MemoryError",
     "evalue": "Unable to allocate 44.5 GiB for an array with shape (364500, 128, 128, 1) and data type float64",
     "output_type": "error",
     "traceback": [
      "\u001b[1;31m---------------------------------------------------------------------------\u001b[0m",
      "\u001b[1;31mMemoryError\u001b[0m                               Traceback (most recent call last)",
      "Input \u001b[1;32mIn [5]\u001b[0m, in \u001b[0;36m<cell line: 21>\u001b[1;34m()\u001b[0m\n\u001b[0;32m     19\u001b[0m imax \u001b[38;5;241m=\u001b[39m (characters\u001b[38;5;241m.\u001b[39mshape[\u001b[38;5;241m0\u001b[39m] \u001b[38;5;241m/\u001b[39m\u001b[38;5;241m/\u001b[39m batch) \u001b[38;5;241m-\u001b[39m\u001b[38;5;241m1\u001b[39m\n\u001b[0;32m     20\u001b[0m \u001b[38;5;66;03m# Reserve memory on ram to avoid GPU memory OOM\u001b[39;00m\n\u001b[1;32m---> 21\u001b[0m characters_ram \u001b[38;5;241m=\u001b[39m \u001b[43mnp\u001b[49m\u001b[38;5;241;43m.\u001b[39;49m\u001b[43mzeros\u001b[49m\u001b[43m(\u001b[49m\u001b[43m[\u001b[49m\u001b[43m(\u001b[49m\u001b[43mimax\u001b[49m\u001b[38;5;241;43m+\u001b[39;49m\u001b[38;5;241;43m1\u001b[39;49m\u001b[43m)\u001b[49m\u001b[38;5;241;43m*\u001b[39;49m\u001b[43mbatch\u001b[49m\u001b[43m,\u001b[49m\u001b[43m \u001b[49m\u001b[38;5;241;43m128\u001b[39;49m\u001b[43m,\u001b[49m\u001b[43m \u001b[49m\u001b[38;5;241;43m128\u001b[39;49m\u001b[43m,\u001b[49m\u001b[43m \u001b[49m\u001b[38;5;241;43m1\u001b[39;49m\u001b[43m]\u001b[49m\u001b[43m)\u001b[49m\n\u001b[0;32m     23\u001b[0m \u001b[38;5;66;03m# Add colour dimension because tf resize accepts dim (batch, x, y, colour_channel)\u001b[39;00m\n\u001b[0;32m     24\u001b[0m characters \u001b[38;5;241m=\u001b[39m np\u001b[38;5;241m.\u001b[39mexpand_dims(characters,axis\u001b[38;5;241m=\u001b[39m\u001b[38;5;241m3\u001b[39m)     \n",
      "\u001b[1;31mMemoryError\u001b[0m: Unable to allocate 44.5 GiB for an array with shape (364500, 128, 128, 1) and data type float64"
     ]
    }
   ],
   "source": [
    "## Create shuffled, resized to 128*128, binarised EMNIST letters/digits\n",
    "\n",
    "# Combine letters and digits and shuffle the order\n",
    "digits, _ = extract_training_samples('digits')\n",
    "letters, _ = extract_training_samples('letters')\n",
    "characters =np.concatenate((digits, letters))\n",
    "\n",
    "np.random.shuffle(characters)\n",
    "# characters = characters[:100000]\n",
    "\n",
    "# Pad from 28*28 to 32*32\n",
    "padded_characters = np.zeros((characters.shape[0],32,32))\n",
    "padded_characters[:,2:-2,2:-2] = characters\n",
    "characters = padded_characters\n",
    "\n",
    "## Resize and Binarise\n",
    "# Run in batches of 50000 to avoid GPU memory OOM\n",
    "batch = 500\n",
    "imax = (characters.shape[0] // batch) -1\n",
    "# Reserve memory on ram to avoid GPU memory OOM\n",
    "characters_ram = np.zeros([(imax+1)*batch, 128, 128, 1])\n",
    "\n",
    "# Add colour dimension because tf resize accepts dim (batch, x, y, colour_channel)\n",
    "characters = np.expand_dims(characters,axis=3)     \n",
    "\n",
    "# Batch resizing and binarising characters\n",
    "for i in range(imax):\n",
    "    # Resize to 128*128\n",
    "    characters_ram[i*50000:(i+1)*50000,:,:,:] = tf.image.resize(characters[i*50000:(i+1)*50000,:,:,:],(128,128))  # resize all to 128,128\n",
    "    # Binarise all\n",
    "    characters_ram[i*50000:(i+1)*50000,:,:,:] = tf.where(characters_ram[i*50000:(i+1)*50000,:,:,:] > 0.5*np.max(characters), 1, 0)\n",
    "\n",
    "characters = characters_ram\n",
    "# Squeeze dimension back to (batch, x, y)\n",
    "characters = np.squeeze(characters, axis=3)        "
   ]
  },
  {
   "cell_type": "code",
   "execution_count": 7,
   "id": "1076cac6",
   "metadata": {},
   "outputs": [],
   "source": [
    "## Generate combined and resized images\n",
    "def ground_truth():\n",
    "\n",
    "    row = np.random.randint(low = 1, high = 4)\n",
    "    column = np.random.randint(low = 1, high = 4)\n",
    "    number_of_characters = row*column\n",
    "    # randomly pick images from characters\n",
    "    irand = np.random.randint(low = 0, high = characters.shape[0], size = number_of_characters)\n",
    "    select_images = np.concatenate(np.expand_dims([characters[i] for i in irand], axis = 0 ))   # Shape (number_of_characters, x, y)\n",
    "\n",
    "    # Randomly flip rows\n",
    "    for i, image in enumerate(select_images):\n",
    "        if np.random.choice([True, False]):\n",
    "            select_images[i] = np.flip(image, axis = 0)\n",
    "    # Randomly flip columns\n",
    "    for i, image in enumerate(select_images):\n",
    "        if np.random.choice([True, False]):\n",
    "            select_images[i] = np.flip(image, axis = 1)\n",
    "    # Randomly rotate clockwise\n",
    "    for i, image in enumerate(select_images):\n",
    "        if np.random.choice([True, False]):\n",
    "            select_images[i] = np.rot90(image, k = 1)\n",
    "    # Randomly rotate anti-clockwise\n",
    "    for i, image in enumerate(select_images):\n",
    "        if np.random.choice([True, False]):\n",
    "            select_images[i] = np.rot90(image, k = -1)\n",
    "    \n",
    "    # Generate individual intensity images\n",
    "    intensity_images = select_images * np.random.uniform(low = 200, high = 800, size = (select_images.shape[0],1,1))\n",
    "    for i, image in enumerate(intensity_images):\n",
    "\t    intensity_images[i,:,:] = gaussian_filter(image, 0.1)\n",
    "    \n",
    "    # Generate individual lifetime images\n",
    "    lifetime = np.random.uniform(low = 0.3, high = 1.2, size = (intensity_images.shape[0],1,1))\t\t\t\t\t\t\t\t\t# unit in ns\n",
    "    lifetime_images = np.where(intensity_images != 0, 1, 0) * lifetime\n",
    "\n",
    "    # Stacking 'em all\n",
    "    iposition = np.reshape(np.random.permutation(np.array(range(number_of_characters))), (row, column))                         # position of each image\n",
    "    intensity_ground_truth = np.vstack([np.hstack([intensity_images[j] for j in i]) for i in iposition])\n",
    "    lifetime_ground_truth = np.vstack([np.hstack([lifetime_images[j] for j in i]) for i in iposition])\n",
    "\n",
    "    # Scale intensity to 128*128\n",
    "    intensity_ground_truth = tf.image.resize(np.expand_dims(intensity_ground_truth, axis = 2), [128, 128], method='bilinear').numpy()\n",
    "    intensity_ground_truth = intensity_ground_truth.squeeze()\n",
    "    # Scale lifetime to 128*128\n",
    "    lifetime_ground_truth = tf.image.resize(np.expand_dims(lifetime_ground_truth, axis = 2), [128, 128], method='nearest').numpy()\n",
    "    lifetime_ground_truth = lifetime_ground_truth.squeeze()\n",
    "\n",
    "    return intensity_ground_truth, lifetime_ground_truth"
   ]
  },
  {
   "cell_type": "code",
   "execution_count": null,
   "id": "c65f4774",
   "metadata": {},
   "outputs": [],
   "source": [
    "# Generate 8000 ground truth\n",
    "size_sample = 8000\n",
    "gt_intensity = np.zeros((size_sample, 128, 128))        # batch of ground truth intensity\n",
    "gt_lifetime = np.zeros((size_sample, 128, 128))         # batch of ground truth lifetime\n",
    "for i in range(size_sample):\n",
    "    gt_intensity[i,:,:], gt_lifetime[i,:,:] = ground_truth()\n",
    "\n",
    "# Write ground truth into file\n",
    "with h5py.File('Data/ground_truth.h5','w') as f:\n",
    "    f.create_dataset('intensity_ground_truth', data=gt_intensity)\n",
    "    f.create_dataset('lifetime_ground_truth', data=gt_lifetime)\n",
    "# draw(characters[:4])"
   ]
  },
  {
   "cell_type": "code",
   "execution_count": 15,
   "id": "23c5727b",
   "metadata": {},
   "outputs": [],
   "source": [
    "# Example of a ground truth image\n",
    "with h5py.File('Data/ground_truth.h5','r')as f:\n",
    "    intensity_sample = np.array(f['intensity_ground_truth'][0])\n",
    "    lifetime_sample = np.array(f['lifetime_ground_truth'][0])"
   ]
  },
  {
   "cell_type": "code",
   "execution_count": 16,
   "id": "da840f73",
   "metadata": {},
   "outputs": [
    {
     "data": {
      "text/plain": [
       "<matplotlib.image.AxesImage at 0x193b0cf8340>"
      ]
     },
     "execution_count": 16,
     "metadata": {},
     "output_type": "execute_result"
    },
    {
     "data": {
      "image/png": "[encoded data removed]",
      "text/plain": [
       "<Figure size 432x288 with 1 Axes>"
      ]
     },
     "metadata": {
      "needs_background": "light"
     },
     "output_type": "display_data"
    }
   ],
   "source": [
    "plt.imshow(intensity_sample)"
   ]
  },
  {
   "cell_type": "code",
   "execution_count": 17,
   "id": "0c944c1c",
   "metadata": {},
   "outputs": [
    {
     "data": {
      "text/plain": [
       "<matplotlib.image.AxesImage at 0x193b0d2cbe0>"
      ]
     },
     "execution_count": 17,
     "metadata": {},
     "output_type": "execute_result"
    },
    {
     "data": {
      "image/png": "[encoded data removed]",
      "text/plain": [
       "<Figure size 432x288 with 1 Axes>"
      ]
     },
     "metadata": {
      "needs_background": "light"
     },
     "output_type": "display_data"
    }
   ],
   "source": [
    "plt.imshow(lifetime_sample)"
   ]
  },
  {
   "cell_type": "code",
   "execution_count": null,
   "id": "510d689b",
   "metadata": {},
   "outputs": [],
   "source": []
  }
 ],
 "metadata": {
  "kernelspec": {
   "display_name": "Python 3 (ipykernel)",
   "language": "python",
   "name": "python3"
  },
  "language_info": {
   "codemirror_mode": {
    "name": "ipython",
    "version": 3
   },
   "file_extension": ".py",
   "mimetype": "text/x-python",
   "name": "python",
   "nbconvert_exporter": "python",
   "pygments_lexer": "ipython3",
   "version": "3.10.6"
  }
 },
 "nbformat": 4,
 "nbformat_minor": 5
}
