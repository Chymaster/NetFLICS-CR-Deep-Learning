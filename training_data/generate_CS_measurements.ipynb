{
 "cells": [
  {
   "cell_type": "markdown",
   "id": "61b0f3fc",
   "metadata": {},
   "source": [
    "# From raw measurements to compressed sensing measurements\n",
    "    Now we have generated raw FLIM measurements from generate_raw_measurement, we can use the raw measurements to simulate the compressively sensed measurements."
   ]
  },
  {
   "cell_type": "markdown",
   "id": "c65d4b9e",
   "metadata": {},
   "source": [
    "## Some preparation"
   ]
  },
  {
   "cell_type": "code",
   "execution_count": 25,
   "id": "ee50d1da",
   "metadata": {},
   "outputs": [],
   "source": [
    "import scipy\n",
    "import numpy as np\n",
    "import matplotlib.pyplot as plt"
   ]
  },
  {
   "cell_type": "markdown",
   "id": "82d6788c",
   "metadata": {},
   "source": [
    "A function to read in raw_measurement files into the memory"
   ]
  },
  {
   "cell_type": "code",
   "execution_count": 26,
   "id": "10068227",
   "metadata": {},
   "outputs": [],
   "source": [
    "# This function reads the raw measurements data from the Raw_Measurements file\n",
    "# Parameters:\n",
    "# - starting_index is where the index starts\n",
    "# - batch is the number of batches\n",
    "# For example, read_raw_data(20,10) will return the raw measurement data from sample_20 to sample_30\n",
    "# There are up to 8000 raw measurements data\n",
    "def read_raw_data(starting_index, batch):\n",
    "    raw_measurements = np.zeros([batch,128,128,256]).astype(np.uint8)\n",
    "    for j in range(batch):\n",
    "        i = j+starting_index\n",
    "        raw_measurements[j,:,:] = scipy.io.loadmat('Data\\Raw_Measurements\\sample_'+str(i)+'.mat')['measurements']\n",
    "    return raw_measurements"
   ]
  },
  {
   "cell_type": "markdown",
   "id": "a44c6b00",
   "metadata": {},
   "source": [
    "## Generate images\n",
    "Compressive measurements are made by $y = \\phi x$, where y is the compressively measured datasets, and x is the original image. $\\phi$ is the measurement matrix\n",
    "x in here is a 1D array, so we reshape the lifetime raw measurements into \n",
    "\n",
    "$x = [batch_i, t, y]$\n",
    "\n",
    "So first of all we need a Hadamard Matrix, as our measurement matrix $\\phi$"
   ]
  },
  {
   "cell_type": "code",
   "execution_count": 73,
   "id": "b60e3513",
   "metadata": {},
   "outputs": [
    {
     "name": "stdout",
     "output_type": "stream",
     "text": [
      "The shape of reshaped hadamard matrix is  (16384,)\n"
     ]
    }
   ],
   "source": [
    "# raw_measurements = [batch_i, x, y, t]\n",
    "hadamard= scipy.linalg.hadamard(128).reshape(-1)\n",
    "print('The shape of reshaped hadamard matrix is ', hadamard.shape)"
   ]
  },
  {
   "cell_type": "code",
   "execution_count": 82,
   "id": "45c06395",
   "metadata": {},
   "outputs": [
    {
     "name": "stdout",
     "output_type": "stream",
     "text": [
      "The shape of the raw measurements data is  (1, 128, 128, 256)\n"
     ]
    }
   ],
   "source": [
    "raw_measurements = read_raw_data(0,1)\n",
    "print('The shape of the raw measurements data is ',raw_measurements.shape)"
   ]
  },
  {
   "cell_type": "code",
   "execution_count": 83,
   "id": "183fe71d",
   "metadata": {},
   "outputs": [
    {
     "name": "stdout",
     "output_type": "stream",
     "text": [
      "The shape of 1D measurements x is  (1, 256, 16384)\n"
     ]
    }
   ],
   "source": [
    "# raw_measurements = [batch_i,x,y,t]\n",
    "x_2D = np.moveaxis(raw_measurements,[1,2,3],[2,3,1])\n",
    "# x_2D = [batch_1,t,x,y]\n",
    "x = np.reshape(x_2D, (x_2D.shape[0],x_2D.shape[1],-1))\n",
    "print('The shape of 1D measurements x is ', x.shape)"
   ]
  },
  {
   "cell_type": "code",
   "execution_count": null,
   "id": "fdca275b",
   "metadata": {},
   "outputs": [],
   "source": []
  }
 ],
 "metadata": {
  "kernelspec": {
   "display_name": "Python 3 (ipykernel)",
   "language": "python",
   "name": "python3"
  },
  "language_info": {
   "codemirror_mode": {
    "name": "ipython",
    "version": 3
   },
   "file_extension": ".py",
   "mimetype": "text/x-python",
   "name": "python",
   "nbconvert_exporter": "python",
   "pygments_lexer": "ipython3",
   "version": "3.10.6"
  }
 },
 "nbformat": 4,
 "nbformat_minor": 5
}
